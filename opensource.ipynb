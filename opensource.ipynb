{
 "cells": [
  {
   "cell_type": "code",
   "execution_count": null,
   "id": "3d00775f",
   "metadata": {},
   "outputs": [],
   "source": [
    "\"\"\"[TASK] Контрибьютинг в Open Source #8.\"\"\""
   ]
  },
  {
   "cell_type": "markdown",
   "id": "e74f9308",
   "metadata": {},
   "source": [
    "1. Да \n",
    "2. [Yandex](https://github.com/yandex/gixy)\n",
    "3. Да\n",
    "4. Исправил отображение Build Status в README.md, добавив в репозиторий Github Actions.\n",
    "5. 130\n",
    "6. 06.01.2024\n",
    "7. 19\n",
    "8. Редко\n",
    "9. 51\n",
    "10. Нет\n",
    "11. Да\n",
    "12. Нет\n",
    "13. Да\n",
    "14. 8\n",
    "15. Нет\n",
    "16. Нет\n",
    "17. Нет\n",
    "18. 06.01.2024"
   ]
  },
  {
   "cell_type": "markdown",
   "id": "363a85ec",
   "metadata": {},
   "source": []
  }
 ],
 "metadata": {
  "kernelspec": {
   "display_name": "temp (3.13.5)",
   "language": "python",
   "name": "temp"
  },
  "language_info": {
   "name": "python",
   "version": "3.13.5"
  }
 },
 "nbformat": 4,
 "nbformat_minor": 5
}
