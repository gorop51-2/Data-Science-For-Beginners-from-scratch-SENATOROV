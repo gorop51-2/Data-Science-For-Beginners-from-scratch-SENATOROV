{
 "cells": [
  {
   "cell_type": "code",
   "execution_count": null,
   "id": "a5f58183",
   "metadata": {},
   "outputs": [],
   "source": [
    "\"\"\"Stash quiz.\"\"\""
   ]
  },
  {
   "cell_type": "markdown",
   "id": "209d4da7",
   "metadata": {},
   "source": [
    "1. Что делает команда git stash?\n",
    "\n",
    "Сохраняет проиндексированные изменения в stash, убирая их из списка изменений."
   ]
  },
  {
   "cell_type": "markdown",
   "id": "5c8404fc",
   "metadata": {},
   "source": [
    "2. Как просмотреть список всех сохранённых изменений (стэшей)?\n",
    "\n",
    "`git stash list`"
   ]
  },
  {
   "cell_type": "markdown",
   "id": "75c1e4db",
   "metadata": {},
   "source": [
    "3. Какая команда применяется для использования верхнего стэша?\n",
    "\n",
    "`git stash apply`"
   ]
  },
  {
   "cell_type": "markdown",
   "id": "fb77782e",
   "metadata": {},
   "source": [
    "4. Как применить конкретный стэш по его номеру?\n",
    "\n",
    "`git stash apply номер_нужного_стеша`"
   ]
  },
  {
   "cell_type": "markdown",
   "id": "0f0c6e1d",
   "metadata": {},
   "source": [
    "5. Чем отличается команда git stash apply от git stash pop?\n",
    "\n",
    "`git stash apply` - просто восстанавливает стеш, а `git stash pop` - восстанавливает и затем удаляет стеш из общего списка."
   ]
  },
  {
   "cell_type": "markdown",
   "id": "96e6f9ce",
   "metadata": {},
   "source": [
    "6. Что делает команда git stash drop?\n",
    "\n",
    "Удаляет последний стеш из общего списка."
   ]
  },
  {
   "cell_type": "markdown",
   "id": "ab9c84c3",
   "metadata": {},
   "source": [
    "7. Как полностью очистить все сохранённые стэши?\n",
    "\n",
    "`git stash clear`"
   ]
  },
  {
   "cell_type": "markdown",
   "id": "4394b424",
   "metadata": {},
   "source": [
    "8. В каких случаях удобно использовать git stash?\n",
    "\n",
    "Если нам необходимо отложить текущие изменения, для выполнения pull или merge без конфликта слияния."
   ]
  },
  {
   "cell_type": "markdown",
   "id": "ce5d327f",
   "metadata": {},
   "source": [
    "9. Что произойдёт, если выполнить git stash pop, но в проекте есть конфликтующие изменения?\n",
    "\n",
    "Произойдет конфликт слияний, который можно будет разрешить, также стеш не удалится из общего списка несмотря на pop."
   ]
  },
  {
   "cell_type": "markdown",
   "id": "f78481e6",
   "metadata": {},
   "source": [
    "10. Можно ли восстановить удалённый стэш после выполнения git stash drop?\n",
    "\n",
    "Так как stash - это по сути отложенные коммиты, то `git stash drop` - просто удаляет ссылку на stash-коммит, но сам stash-коммит может еще какое-то время оставаться в истории Git (пока не будет удалён сборщиком мусора - `git gc`) и если найти его хеш, то его можно восстановить коммандой `git stash apply хеш_стеш_коммита`."
   ]
  },
  {
   "cell_type": "markdown",
   "id": "45e209b5",
   "metadata": {},
   "source": [
    "11. Что делает команда git stash save \"NAME_STASH\"?\n",
    "\n",
    "Сохраняет проиндексированные изменения в общий список стешей и подписывает данный стеш названием NAME_STASH, который вы указали."
   ]
  },
  {
   "cell_type": "markdown",
   "id": "00036e6b",
   "metadata": {},
   "source": [
    "12. Что делает команда git stash apply \"NUMBER_STASH\"?\n",
    "\n",
    "Восстанавливает нужный стеш по его введенному номеру."
   ]
  },
  {
   "cell_type": "markdown",
   "id": "2caaa213",
   "metadata": {},
   "source": [
    "13. Что делает команда git stash pop \"NUMBER_STASH\"?\n",
    "\n",
    "Восстанавливает нужный стеш по его введенному номеру, а затем удаляет из общего списка стешей."
   ]
  },
  {
   "cell_type": "markdown",
   "id": "ce61a5ec",
   "metadata": {},
   "source": [
    "14. Сохраните текущие изменения в стэш под названием \"SENATOROV ver1\", вставьте скриншот из терминала\n",
    "\n",
    "![](..\\img\\stash.jpg)"
   ]
  },
  {
   "cell_type": "markdown",
   "id": "56ac6c89",
   "metadata": {},
   "source": [
    "16. Восстановите ваш стэш \"SENATOROV ver1\", вставьте скриншот из терминала\n",
    "\n",
    "![](..\\img\\stash2.jpg)"
   ]
  },
  {
   "cell_type": "markdown",
   "id": "02276288",
   "metadata": {},
   "source": [
    "17. Удалите все стеши из истории, вставьте скриншот из терминала\n",
    "\n",
    "![](..\\img\\stash3.jpg)"
   ]
  }
 ],
 "metadata": {
  "language_info": {
   "name": "python"
  }
 },
 "nbformat": 4,
 "nbformat_minor": 5
}
