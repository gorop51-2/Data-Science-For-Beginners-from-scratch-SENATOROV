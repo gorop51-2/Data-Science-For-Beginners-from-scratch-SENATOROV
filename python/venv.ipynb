{
 "cells": [
  {
   "cell_type": "code",
   "execution_count": null,
   "id": "f3acb865",
   "metadata": {},
   "outputs": [],
   "source": [
    "\"\"\"Venv quiz.\"\"\""
   ]
  },
  {
   "cell_type": "markdown",
   "id": "593a75e0",
   "metadata": {},
   "source": [
    "1. Что делает команда python -m venv venv?\n",
    "\n",
    "Создает виртуальное окружение python проекта в отдельной папке."
   ]
  },
  {
   "cell_type": "markdown",
   "id": "6775073c",
   "metadata": {},
   "source": [
    "1.1 Что делает каждая команда:\n",
    "\n",
    "* `pip list` - список установленных библиотек\n",
    "* `pip freeze > requirements.txt` - запись установленных библиотек в текстовый файл\n",
    "* `pip install -r requirements.txt` - установка библиотек записанных в текстовом файле с помощью pip"
   ]
  },
  {
   "cell_type": "markdown",
   "id": "f5dbaa7d",
   "metadata": {},
   "source": [
    "2. Что делает каждая команда?\n",
    "\n",
    "* `conda env list` - список доступных виртуальных окружений conda;\n",
    "* `conda create -n env_name python=3.5` - создание нового виртуального окружения с именем env_name и версией python 3.5;\n",
    "* `conda env update -n env_name -f file.yml` - обновляет существующее виртуальное окружение env_name, если оно отличается от обозначенного в file.yml (библиотеки, версии библиотек);\n",
    "* `source activate env_name` - активация виртуального окружения env_name;\n",
    "* `source deactivate` - деактивация активного виртуального окружения;\n",
    "* `conda clean -a` - используется для очистки кэша и неиспользуемых пакетов."
   ]
  },
  {
   "cell_type": "markdown",
   "id": "b9428b8f",
   "metadata": {},
   "source": [
    "3. Вставьте скрин вашего терминала, где вы активировали сначала venv, потом conda, назовите окружение \"SENATOROV\"\n",
    "\n",
    "![](..\\img\\venv.jpg)"
   ]
  },
  {
   "cell_type": "markdown",
   "id": "f8fda3b8",
   "metadata": {},
   "source": [
    "4. Как установить необходимые пакеты внутрь виртуального окружения для conda/venv?\n",
    "\n",
    "`conda install lib_name` / `pip install lib_name`"
   ]
  },
  {
   "cell_type": "markdown",
   "id": "92748dab",
   "metadata": {},
   "source": [
    "5. Что делают эти команды?\n",
    "\n",
    "* `pip freeze > requirements.txt` - сохраняет список установленных библиотек в текстовый файл\n",
    "* `conda env export > environment.yml` - экспортирует текущие настройки (библиотеки и их версии) среды conda в файл конфигурации"
   ]
  },
  {
   "cell_type": "markdown",
   "id": "fde1864c",
   "metadata": {},
   "source": [
    "5.1. Вставьте скрин, где будет видна папка VENV в вашем репозитории а также файлы зависимостей requirements.txt и environment.yml, файлы должны содержать зависимости.\n",
    "\n",
    "![](..\\img\\export.jpg)"
   ]
  },
  {
   "cell_type": "markdown",
   "id": "9f78f9ab",
   "metadata": {},
   "source": [
    "6. Что делают эти команды?\n",
    "\n",
    "* `pip install -r requirements.txt` - устанавливает библиотеки из текстового файла\n",
    "* `conda env create -f environment.yml` - создает переменное окружения из готового файла конфигурации (библиотеки и их версии)"
   ]
  },
  {
   "cell_type": "markdown",
   "id": "a0385581",
   "metadata": {},
   "source": [
    "7. Что делают эти команды?\n",
    "\n",
    "* `pip list` - список установленных библиотек\n",
    "* `pip show lib` - информация о библиотеке,\n",
    "* `conda list` - список установленных библиотек в виртуальное окружение conda\n",
    "\n"
   ]
  },
  {
   "cell_type": "markdown",
   "id": "72c173f4",
   "metadata": {},
   "source": [
    "8. Где по умолчанию больше пакетов venv/pip или conda? и почему дата сайнинисты используют conda?\n",
    "\n",
    "Самое больше количество в pip，однако дата сайентисты используют conda из-за удобств, облегченного управления зависимостями и кросс-платформенности. "
   ]
  },
  {
   "cell_type": "markdown",
   "id": "a13b3a0a",
   "metadata": {},
   "source": [
    "9. Вставьте скрин где будет видно, Выбор интерпретатора Python (conda) в VS Code/cursor.\n",
    "\n",
    "![](..\\img\\choose.jpg)"
   ]
  },
  {
   "cell_type": "markdown",
   "id": "2b6bdf50",
   "metadata": {},
   "source": [
    "11. Зачем нужно виртуально окружение?\n",
    "\n",
    "Чтобы зависимости с разных проектов не смешивались в одном интерпретаторе, контролировать версии библиотек и удобно переносить проект на другие устройства."
   ]
  },
  {
   "cell_type": "markdown",
   "id": "83d83d04",
   "metadata": {},
   "source": [
    "12. С этого момента надо работать в виртуальном окружении conda, ты научился(-ась) выгружать зависимости и работать с окружением?\n",
    "\n",
    "Да."
   ]
  }
 ],
 "metadata": {
  "language_info": {
   "name": "python"
  }
 },
 "nbformat": 4,
 "nbformat_minor": 5
}
