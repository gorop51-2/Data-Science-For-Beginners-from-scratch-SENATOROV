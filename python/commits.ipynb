{
 "cells": [
  {
   "cell_type": "code",
   "execution_count": null,
   "id": "955d2254",
   "metadata": {},
   "outputs": [],
   "source": [
    "\"\"\"Commits quiz.\"\"\""
   ]
  },
  {
   "cell_type": "markdown",
   "id": "5f2d40e8",
   "metadata": {},
   "source": [
    "1. Опишите своими словами назначение каждого из этих типов коммитов:\n",
    "\n",
    "* feat - добавление нового функционала в проект\n",
    "* fix - исправление багов и ошибок в проекте\n",
    "* docs - добавление/обновление документации проекта\n",
    "* style - внешнее изменение кода проекта\n",
    "* refactor - изменение кода без потери первоначальной архитектуры/идеи\n",
    "* test - изменение/добавление тестов в проект\n",
    "* build - изменения связанные со сборкой проекта/внешними зависимости\n",
    "* ci - изменение системы интеграций, например GitHub Actions\n",
    "* perf - улучшение производительности проекта, без изменений функциональности\n",
    "* chore - рутинные изменения, не попадающие под другие категории"
   ]
  },
  {
   "cell_type": "markdown",
   "id": "233ed65e",
   "metadata": {},
   "source": [
    "2. Представьте, что вы исправили баг в функции, которая некорректно округляет числа. Сделайте фиктивный коммит и напишите для него сообщение в соответствии с Conventional Commits (используя тип fix).\n",
    "\n",
    "https://github.com/gorop51-2/Data-Science-For-Beginners-from-scratch-SENATOROV/commit/92705a24a2212eca2ea32cabcfc73416d5b525ed"
   ]
  },
  {
   "cell_type": "markdown",
   "id": "e0da3f98",
   "metadata": {},
   "source": [
    "3. Допустим, вы реализовали новую функцию generateReport в проекте. Сделайте фиктивный коммит с типом feat, отражающий добавление этой функциональности.\n",
    "\n",
    "https://github.com/gorop51-2/Data-Science-For-Beginners-from-scratch-SENATOROV/commit/395cc9c2e9cd2ddd838e8fe27159c4e73342950a"
   ]
  },
  {
   "cell_type": "markdown",
   "id": "067dfe49",
   "metadata": {},
   "source": [
    "4. Представьте, что вы поправили отступы и форматирование во всём проекте, не меняя логики кода. Сделайте фиктивный коммит с типом style\n",
    "\n",
    "https://github.com/gorop51-2/Data-Science-For-Beginners-from-scratch-SENATOROV/commit/c8419c7357fe7ec7e2936d9da584c60d28f1ddb7"
   ]
  },
  {
   "cell_type": "markdown",
   "id": "e312ac3c",
   "metadata": {},
   "source": [
    "5. Сделайте фиктивный коммит с типом docs, добавляющий или улучшающий документацию для вашей новой функции.\n",
    "\n",
    "https://github.com/gorop51-2/Data-Science-For-Beginners-from-scratch-SENATOROV/commit/14f0e9206637191750efe1795cf531e151366f9c\n",
    "\n",
    "Сделайте фиктивный коммит с типом test, добавляющий тесты для этой же функции.\n",
    "\n",
    "https://github.com/gorop51-2/Data-Science-For-Beginners-from-scratch-SENATOROV/commit/8f63c34a1ffef170a50a34df00793f6eaf262d70"
   ]
  }
 ],
 "metadata": {
  "language_info": {
   "name": "python"
  }
 },
 "nbformat": 4,
 "nbformat_minor": 5
}
