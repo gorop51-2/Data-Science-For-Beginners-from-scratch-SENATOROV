{
 "cells": [
  {
   "cell_type": "code",
   "execution_count": null,
   "id": "e10845bd",
   "metadata": {},
   "outputs": [],
   "source": [
    "\"\"\"Cpython quiz.\"\"\""
   ]
  },
  {
   "cell_type": "markdown",
   "id": "5952edf0",
   "metadata": {},
   "source": [
    "1. Что такое CPython и чем он отличается от Python?\n",
    "\n",
    "Это самая популярная реализация языка python и интерпретатор, позволяющий выполнять Python-код. Python - язык программирования, а CPython - одна из шести его реализаций."
   ]
  },
  {
   "cell_type": "markdown",
   "id": "5887c1c3",
   "metadata": {},
   "source": [
    "3. Сколько существует реализаций Python, и какая из них самая популярная?\n",
    "\n",
    "Всего 6 реализаций, самая популярная - CPython."
   ]
  },
  {
   "cell_type": "markdown",
   "id": "ed7c67ae",
   "metadata": {},
   "source": [
    "4. На каком языке написан CPython?\n",
    "\n",
    "На языке C."
   ]
  },
  {
   "cell_type": "markdown",
   "id": "787ea443",
   "metadata": {},
   "source": [
    "5. Кто создал Cpython?\n",
    "\n",
    "Гвидо ван Россум"
   ]
  },
  {
   "cell_type": "markdown",
   "id": "aa0dbdac",
   "metadata": {},
   "source": [
    "6. Почему Python считается быстрым, несмотря на то, что это интерпретируемый язык?\n",
    "\n",
    "Потому что он сам и его ядро написаны на C."
   ]
  },
  {
   "cell_type": "markdown",
   "id": "309039fd",
   "metadata": {},
   "source": [
    "7. Напишите путь к Интерпретатору CPython на вашем компьютере\n",
    "\n",
    "C:\\Users\\spesi\\AppData\\Local\\Programs\\Python\\Python313\\python.exe"
   ]
  },
  {
   "cell_type": "markdown",
   "id": "be2f95e7",
   "metadata": {},
   "source": [
    "8. Что содержится в папке include в CPython?\n",
    "\n",
    "Исходные файлы на языке C."
   ]
  },
  {
   "cell_type": "markdown",
   "id": "02354c8c",
   "metadata": {},
   "source": [
    "9. Где можно найти исходный код Cpython?\n",
    "\n",
    "https://github.com/python/cpython"
   ]
  },
  {
   "cell_type": "markdown",
   "id": "0d6e8b5b",
   "metadata": {},
   "source": [
    "10. Как работает интерпретатор CPython при выполнении кода?\n",
    "\n",
    "Он считывает и выполняет каждую строчку программы последовательно."
   ]
  },
  {
   "cell_type": "markdown",
   "id": "d97fa24b",
   "metadata": {},
   "source": [
    "11. Какая команда используется для запуска файла с помощью CPython?\n",
    "\n",
    "`python имя_файла`"
   ]
  },
  {
   "cell_type": "markdown",
   "id": "52f4bede",
   "metadata": {},
   "source": [
    "12. Можно ли запускать текстовые файлы через интерпретатор Python?\n",
    "\n",
    "Да можно, так как интерпретатору все равно на расширение исполняемого файла."
   ]
  },
  {
   "cell_type": "markdown",
   "id": "1a2fd68c",
   "metadata": {},
   "source": [
    "13. Как указать путь к интерпретатору и файлу для выполнения кода?\n",
    "\n",
    "`...\\путь_до_интерпретатора\\python.exe имя_файла`"
   ]
  },
  {
   "cell_type": "markdown",
   "id": "4f6f1c08",
   "metadata": {},
   "source": [
    "14. Чем PyPy отличается от CPython?\n",
    "\n",
    "Это интерпретатор являющийся реализацией RPython языка Python, в отличии от стандартного RPython является статически типизированным для более эффективной компиляции."
   ]
  },
  {
   "cell_type": "markdown",
   "id": "585d0f72",
   "metadata": {},
   "source": [
    "15. Почему PyPy не может использоваться для всех проектов на Python?\n",
    "\n",
    "Так как это достаточно новый подход, к особенностям которого адаптированны далеко не все инструменты разработки."
   ]
  },
  {
   "cell_type": "markdown",
   "id": "0e5de89c",
   "metadata": {},
   "source": [
    "16. Где можно скачать PyPy?\n",
    "\n",
    "https://pypy.org/"
   ]
  },
  {
   "cell_type": "markdown",
   "id": "9719726b",
   "metadata": {},
   "source": [
    "17. Как установить PyPy после скачивания\n",
    "\n",
    "Распаковать скачанный архив с интерпретатором в удобное место."
   ]
  },
  {
   "cell_type": "markdown",
   "id": "bd6c6a3d",
   "metadata": {},
   "source": [
    "18. Как запустить файл с помощью PyPy?\n",
    "\n",
    "Добавить PyPy в PATH или `...\\путь_до_интерпретатора_pypy\\python.exe имя_файла`"
   ]
  },
  {
   "cell_type": "markdown",
   "id": "cccabd38",
   "metadata": {},
   "source": [
    "19. Почему PyPy выполняет код быстрее, чем CPython?\n",
    "\n",
    "Из-за статичной типизации кода и встроенной JIT-компиляции."
   ]
  },
  {
   "cell_type": "markdown",
   "id": "652bb8ee",
   "metadata": {},
   "source": [
    "### Практическая часть"
   ]
  },
  {
   "cell_type": "markdown",
   "id": "a9038f37",
   "metadata": {},
   "source": [
    "2. Найдите папку, где установлен Python (например, через команду which python в терминале или свойства ярлыка). Откройте папку include и изучите её содержимое. Какое количество файлов на C там есть?\n",
    "\n",
    "79 файлов."
   ]
  },
  {
   "cell_type": "markdown",
   "id": "7e8d753e",
   "metadata": {},
   "source": [
    "5. Сравнение производительности CPython и PyPy\n",
    "\n",
    "СPython ~ 0.44756 сек., PyPy ~ 0.00531 сек. PyPy быстрее в 65 раз."
   ]
  }
 ],
 "metadata": {
  "language_info": {
   "name": "python"
  }
 },
 "nbformat": 4,
 "nbformat_minor": 5
}
